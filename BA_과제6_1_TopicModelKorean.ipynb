{
  "nbformat": 4,
  "nbformat_minor": 0,
  "metadata": {
    "kernelspec": {
      "display_name": "Python 3",
      "language": "python",
      "name": "python3"
    },
    "language_info": {
      "codemirror_mode": {
        "name": "ipython",
        "version": 3
      },
      "file_extension": ".py",
      "mimetype": "text/x-python",
      "name": "python",
      "nbconvert_exporter": "python",
      "pygments_lexer": "ipython3",
      "version": "3.7.0"
    },
    "colab": {
      "name": "BA_과제6_1_TopicModelKorean.ipynb",
      "provenance": []
    }
  },
  "cells": [
    {
      "cell_type": "markdown",
      "metadata": {
        "id": "nVxXkWSf_8Ok"
      },
      "source": [
        "## Topic Modeling with Sklearn\n",
        "\n",
        "영화 리뷰 데이터를 이용하여 topic modeling을 학습"
      ]
    },
    {
      "cell_type": "markdown",
      "metadata": {
        "id": "oPAPjvrC_8Oq"
      },
      "source": [
        "### Topic Modeling이란?\n",
        "\n",
        "참조: https://ratsgo.github.io/from%20frequency%20to%20semantics/2017/06/01/LDA/\n",
        "\n",
        "토픽모델링은 텍스트 형태로 되어 있는 다수의 문서들로부터 공통적으로 내재되어 있는 주제들을 추출하기 위한 방법론이다. <br>\n",
        "토픽모델링의 기본적인 가정은, 저자들이 문서를 작성할 때 먼저 특정한 주제들을 정하고 나서 그러한 주제들로부터 문장을 구성한다는 것이다. 따라서 문서를 구성하는 단어들은 그 주제들로부터 파생되어진 것으로 볼 수 있으며, 토픽모델링은 문서와 단어들에 대해 통계적인 추론을 수행하여 본래의 주제들을 찾아내는 방법이라고 할 수 있다.  <br>\n",
        "이러한 작업을 하기 위해서는 먼저 자연어로 기술되어 있는 문서들에 대해 형태소 분석을 함으로써 문장들을 개별 단어로 분리해야 한다. \n",
        " <br>\n",
        "토픽모델링의 가장 대표적인 알고리즘은 LDA(Latent Dirichlet Allocation)로 알려져 있다.  <br>\n",
        "LDA는 Blei et al. (2003)에 의해 제안된 알고리즘으로, 앞서 설명한 바와 같이, 확률기법을 기반으로 하여 문서의 토픽 분포를 추론한다.  <br>\n",
        "LDA에서 토픽은 주제를 의미하는 용어로 사용되며, 각 문서들이 특정한 주제에 속할 확률분포와 주제로부터 특정 단어들이 파생되어 나올 확률분포가 주어졌을 때, 이 두 확률분포를 조합하여 각 문서들에 들어가는 단어들의 확률분포를 계산해낸다.  <br>\n",
        "아래 그림에서 θ는 문서들이 각 주제들에 속할 확률분포를 나타내며 디리클레분포의 매개변수인 α에 의해 결정된다.  <br>\n",
        "그림에서 N은 특정 문서에 속한 단어의 집합이며, M은 전체 문서의 집합을 나타낸다. z는 문서 내의 단어들이 주제들에 속할 확률분포를 나타내며, 이는 θ에 의한 다항분포로 선택된다.  <br>\n",
        "β는 각 주제가 특정 단어를 생성할 확률을 나타내는 확률분포이며, 결국 z와 β에 의해 실제 문서들의 단어분포인 w가 결정된다.  <br>\n",
        "이 모형에서 w만이 실제로 문서들을 통해 주어진 분포이고 나머지는 모두 잠재변수이다.  <br>\n",
        "LDA 알고리즘에서는 주어진 문서와 토픽들의 사전확률 분포인 α와 토픽 내에서 단어의 사전확률분포인 β의 파라미터 값을 활용해 반복적인 시뮬레이션을 통해 z와 θ를 추정한다. \n",
        "\n",
        "![image.png](attachment:image.png)\n",
        "\n",
        "![image.png](topic.png)"
      ]
    },
    {
      "cell_type": "markdown",
      "metadata": {
        "id": "crLtZpz7_8Or"
      },
      "source": [
        "다음무비에서 추출한 영화 리뷰를 불러온다."
      ]
    },
    {
      "cell_type": "code",
      "metadata": {
        "colab": {
          "resources": {
            "http://localhost:8080/nbextensions/google.colab/files.js": {
              "data": "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",
              "ok": true,
              "headers": [
                [
                  "content-type",
                  "application/javascript"
                ]
              ],
              "status": 200,
              "status_text": ""
            }
          },
          "base_uri": "https://localhost:8080/",
          "height": 94
        },
        "id": "jQuWS0tiAnyq",
        "outputId": "8f270e52-7f18-4ce2-bdfd-1a635e4a2ab3"
      },
      "source": [
        "import os\n",
        "os.getcwd()\n",
        "from google.colab import files\n",
        "file_uploaded = files.upload()\n",
        "\n",
        "from google.colab import drive\n",
        "drive.mount('/content/drive')\n"
      ],
      "execution_count": 2,
      "outputs": [
        {
          "output_type": "display_data",
          "data": {
            "text/html": [
              "\n",
              "     <input type=\"file\" id=\"files-f99210c0-e1ab-470f-a4c0-992c9ae31310\" name=\"files[]\" multiple disabled\n",
              "        style=\"border:none\" />\n",
              "     <output id=\"result-f99210c0-e1ab-470f-a4c0-992c9ae31310\">\n",
              "      Upload widget is only available when the cell has been executed in the\n",
              "      current browser session. Please rerun this cell to enable.\n",
              "      </output>\n",
              "      <script src=\"/nbextensions/google.colab/files.js\"></script> "
            ],
            "text/plain": [
              "<IPython.core.display.HTML object>"
            ]
          },
          "metadata": {}
        },
        {
          "output_type": "stream",
          "name": "stdout",
          "text": [
            "Saving movie_data_new(1).csv to movie_data_new(1).csv\n",
            "Mounted at /content/drive\n"
          ]
        }
      ]
    },
    {
      "cell_type": "code",
      "metadata": {
        "id": "3RdgRWO8_8Os"
      },
      "source": [
        "import csv\n",
        "text = []\n",
        "y = []\n",
        "\n",
        "with open('movie_data_new(1).csv', encoding='utf-8') as csvfile:\n",
        "    csvreader = csv.reader(csvfile)\n",
        "    for row in csvreader:\n",
        "        #print(row)\n",
        "        if row and len(row[0]) > 10: #review 길이가 10자 이상인 경우만\n",
        "#        if row: #그 줄에 내용이 있는 경우에만\n",
        "            text.append(row[0]) #영화 리뷰를 text 리스트에 추가\n",
        "            y.append(row[2]) #영화이름을 text 리스트에 추가"
      ],
      "execution_count": 3,
      "outputs": []
    },
    {
      "cell_type": "code",
      "metadata": {
        "colab": {
          "base_uri": "https://localhost:8080/"
        },
        "id": "ku2ColgA_8Ot",
        "outputId": "c326f432-040f-47b4-b51b-0b7463622d53"
      },
      "source": [
        "print('리뷰 수:', len(text))\n",
        "print('리뷰영화:', set(y))"
      ],
      "execution_count": 4,
      "outputs": [
        {
          "output_type": "stream",
          "name": "stdout",
          "text": [
            "리뷰 수: 12445\n",
            "리뷰영화: {'라라랜드', '범죄도시', '코코', '신과함께', '인피니티 워', '택시운전사', '곤지암'}\n"
          ]
        }
      ]
    },
    {
      "cell_type": "code",
      "metadata": {
        "colab": {
          "base_uri": "https://localhost:8080/"
        },
        "id": "9iVS5fQJ_8Ou",
        "outputId": "03f89b17-13bd-4bdd-afb9-b8258b011d47"
      },
      "source": [
        "text[:10]"
      ],
      "execution_count": 5,
      "outputs": [
        {
          "output_type": "execute_result",
          "data": {
            "text/plain": [
              "['헐..다 죽었어....나중에 앤트맨 보다가도 깜놀...',\n",
              " '개연성은 무시해라 액션을 즐겨라 스타로드가 이끌어준다 각각의 영웅들을 즐겨라 그리고 단적인 신념이 얼마나 부질없는지 보셔라',\n",
              " '정말 지루할틈없이 넘잘만들었다 역시 대단하다',\n",
              " '마지막에 누구한테 연락한거지? 궁금',\n",
              " '다음 편이 궁굼해지네요^^',\n",
              " '안잼있는사람 있음???????????',\n",
              " '잘 만들었다! 지루할 틈이 없네...',\n",
              " '이제는 지겨워서 못보겠다',\n",
              " '롱턱 타노스의  장갑이 참 맘에 듬.  아이언 맨과 토르 닥터만 생고생하고..  가디언즈 오브 갤럭시 들 때문에  손해가 크다고 봄  들짐승 하고 칡뿌리 같은 캐릭이  재미를 더해줄줄 알았으나  아쉬움 . 분노의 상징 헐크가 겁을 먹다니..로키의 초반 출연뿐이 서운하지만  본 영화에 이어질 내용에 적합하지 않은지 서두에  죽는부분으로 마무리 됨은 심섬한 충격임 .  다음편에 헬라가 다시 나올까?',\n",
              " '와~~~~~진짜 개쪄는 인피니티워!!몇번을 봐도 개지린다.너무잼있다.어벤져스4도 너무 기대된다.빨리 2019년이왔으면 좋겠다.']"
            ]
          },
          "metadata": {},
          "execution_count": 5
        }
      ]
    },
    {
      "cell_type": "markdown",
      "metadata": {
        "id": "-cgi-yYg_8Ov"
      },
      "source": [
        "#### 한글 처리를 위해서는 konlpy가 필요\n",
        "\n",
        "topic modeling은 count vector를 사용하므로 sklearn의 CountVectorizer를 사용"
      ]
    },
    {
      "cell_type": "code",
      "metadata": {
        "colab": {
          "base_uri": "https://localhost:8080/"
        },
        "id": "fJXOmdG5_8Ow",
        "outputId": "14fdd8e6-2e6a-4d31-8ed2-6eecfe95ba1c"
      },
      "source": [
        "!pip install konlpy\n",
        "from konlpy.tag import Okt #konlpy에서 Twitter 형태소 분석기를 import\n",
        "twitter_tag = Okt()\n",
        "\n",
        "from sklearn.feature_extraction.text import CountVectorizer\n",
        "\n",
        "vec = CountVectorizer(tokenizer=twitter_tag.nouns, #우선은 명사만 사용\n",
        "                      decode_error ='ignore', \n",
        "                      max_df=0.5, #너무 자주 나타나는 단어는 제외, 책에서는 0.15를 사용\n",
        "                      #min_df = 3, #3개 미만의 문서에서 나타난 단어는 제외, 여기서는 max_features를 1000으로 제한하므로 별 필요 없음\n",
        "                      max_features = 1000) #적당한 대상 단어 수를 선택\n",
        "review_cv = vec.fit_transform(text)"
      ],
      "execution_count": 7,
      "outputs": [
        {
          "output_type": "stream",
          "name": "stdout",
          "text": [
            "Collecting konlpy\n",
            "  Downloading konlpy-0.5.2-py2.py3-none-any.whl (19.4 MB)\n",
            "\u001b[K     |████████████████████████████████| 19.4 MB 1.3 MB/s \n",
            "\u001b[?25hRequirement already satisfied: numpy>=1.6 in /usr/local/lib/python3.7/dist-packages (from konlpy) (1.19.5)\n",
            "Collecting colorama\n",
            "  Downloading colorama-0.4.4-py2.py3-none-any.whl (16 kB)\n",
            "Requirement already satisfied: tweepy>=3.7.0 in /usr/local/lib/python3.7/dist-packages (from konlpy) (3.10.0)\n",
            "Collecting beautifulsoup4==4.6.0\n",
            "  Downloading beautifulsoup4-4.6.0-py3-none-any.whl (86 kB)\n",
            "\u001b[K     |████████████████████████████████| 86 kB 6.0 MB/s \n",
            "\u001b[?25hCollecting JPype1>=0.7.0\n",
            "  Downloading JPype1-1.3.0-cp37-cp37m-manylinux_2_5_x86_64.manylinux1_x86_64.whl (448 kB)\n",
            "\u001b[K     |████████████████████████████████| 448 kB 33.0 MB/s \n",
            "\u001b[?25hRequirement already satisfied: lxml>=4.1.0 in /usr/local/lib/python3.7/dist-packages (from konlpy) (4.2.6)\n",
            "Requirement already satisfied: typing-extensions in /usr/local/lib/python3.7/dist-packages (from JPype1>=0.7.0->konlpy) (3.7.4.3)\n",
            "Requirement already satisfied: six>=1.10.0 in /usr/local/lib/python3.7/dist-packages (from tweepy>=3.7.0->konlpy) (1.15.0)\n",
            "Requirement already satisfied: requests[socks]>=2.11.1 in /usr/local/lib/python3.7/dist-packages (from tweepy>=3.7.0->konlpy) (2.23.0)\n",
            "Requirement already satisfied: requests-oauthlib>=0.7.0 in /usr/local/lib/python3.7/dist-packages (from tweepy>=3.7.0->konlpy) (1.3.0)\n",
            "Requirement already satisfied: oauthlib>=3.0.0 in /usr/local/lib/python3.7/dist-packages (from requests-oauthlib>=0.7.0->tweepy>=3.7.0->konlpy) (3.1.1)\n",
            "Requirement already satisfied: urllib3!=1.25.0,!=1.25.1,<1.26,>=1.21.1 in /usr/local/lib/python3.7/dist-packages (from requests[socks]>=2.11.1->tweepy>=3.7.0->konlpy) (1.24.3)\n",
            "Requirement already satisfied: certifi>=2017.4.17 in /usr/local/lib/python3.7/dist-packages (from requests[socks]>=2.11.1->tweepy>=3.7.0->konlpy) (2021.5.30)\n",
            "Requirement already satisfied: chardet<4,>=3.0.2 in /usr/local/lib/python3.7/dist-packages (from requests[socks]>=2.11.1->tweepy>=3.7.0->konlpy) (3.0.4)\n",
            "Requirement already satisfied: idna<3,>=2.5 in /usr/local/lib/python3.7/dist-packages (from requests[socks]>=2.11.1->tweepy>=3.7.0->konlpy) (2.10)\n",
            "Requirement already satisfied: PySocks!=1.5.7,>=1.5.6 in /usr/local/lib/python3.7/dist-packages (from requests[socks]>=2.11.1->tweepy>=3.7.0->konlpy) (1.7.1)\n",
            "Installing collected packages: JPype1, colorama, beautifulsoup4, konlpy\n",
            "  Attempting uninstall: beautifulsoup4\n",
            "    Found existing installation: beautifulsoup4 4.6.3\n",
            "    Uninstalling beautifulsoup4-4.6.3:\n",
            "      Successfully uninstalled beautifulsoup4-4.6.3\n",
            "Successfully installed JPype1-1.3.0 beautifulsoup4-4.6.0 colorama-0.4.4 konlpy-0.5.2\n"
          ]
        }
      ]
    },
    {
      "cell_type": "code",
      "metadata": {
        "colab": {
          "base_uri": "https://localhost:8080/"
        },
        "id": "d-VyRXyy_8Ow",
        "outputId": "3c496d60-cc72-4d86-eaf3-4e18a0615305"
      },
      "source": [
        "review_cv.shape"
      ],
      "execution_count": 8,
      "outputs": [
        {
          "output_type": "execute_result",
          "data": {
            "text/plain": [
              "(12445, 1000)"
            ]
          },
          "metadata": {},
          "execution_count": 8
        }
      ]
    },
    {
      "cell_type": "markdown",
      "metadata": {
        "id": "Nl67rG6p_8Ox"
      },
      "source": [
        "#### sklearn의 LatentDirichletAllocation을 이용하여 topic modeling 수행\n",
        "다양한 argument를 적절히 이용하는 것이 중요"
      ]
    },
    {
      "cell_type": "code",
      "metadata": {
        "id": "sMXyuBwl_8Oy"
      },
      "source": [
        "from sklearn.decomposition import LatentDirichletAllocation\n",
        "\n",
        "lda = LatentDirichletAllocation(n_components = 10, #추출할 topic의 수를 지정\n",
        "                                max_iter=25, #max_iter는 최종 모형에서는 5,000~10,000번 시도한다고 알려져 있음\n",
        "                                topic_word_prior= 0.1, doc_topic_prior=1.0,\n",
        "                                #topic_word_prior: beta, doc_topic_prior: alpha\n",
        "                                #일반적으로 beta는 0.1로 고정하고 alpha를 50/topic의 수 근처의 값을 시도\n",
        "                                #alpha와 beta는 낮은 값을 사용할수록 특정 토픽들이 두드러지도록 하는 효과가 있다고 합\n",
        "                                learning_method='batch', #'batch'는 'online'에 비해 더 성능이 좋고 느림, 현재는 default\n",
        "                                n_jobs= -1, #사용 processor 수, None이면 1, -1이면 모두 사용\n",
        "                                random_state=0)\n",
        "\n",
        "review_topics = lda.fit_transform(review_cv)"
      ],
      "execution_count": 9,
      "outputs": []
    },
    {
      "cell_type": "code",
      "metadata": {
        "colab": {
          "base_uri": "https://localhost:8080/"
        },
        "id": "NQqVD5w__8Oy",
        "outputId": "7d2077c9-1667-45f2-c59f-691d14995dff"
      },
      "source": [
        "print('topic-word distribution dimension:', lda.components_.shape)\n",
        "print('document-topic distribution dimenstion', review_topics.shape)"
      ],
      "execution_count": 10,
      "outputs": [
        {
          "output_type": "stream",
          "name": "stdout",
          "text": [
            "topic-word distribution dimension: (10, 1000)\n",
            "document-topic distribution dimenstion (12445, 10)\n"
          ]
        }
      ]
    },
    {
      "cell_type": "markdown",
      "metadata": {
        "id": "rk0bQzuy_8Oz"
      },
      "source": [
        "#### topic을 보기 쉽게 출력하는 함수를 작성"
      ]
    },
    {
      "cell_type": "code",
      "metadata": {
        "id": "37swt2BV_8Oz"
      },
      "source": [
        "def print_top_words(model, feature_names, n_top_words):\n",
        "    for topic_idx, topic in enumerate(model.components_):\n",
        "        print(\"Topic #%d: \" % topic_idx, end='')\n",
        "        print(\", \".join([feature_names[i] for i in topic.argsort()[:-n_top_words - 1:-1]]))\n",
        "        #print(\", \".join([feature_names[i]+'('+str(topic[i])+')' for i in topic.argsort()[:-n_top_words - 1:-1]]))\n",
        "        # 위 slicing에서 맨 뒤 -1은 역순을 의미, 역순으로 했을 때 처음부터 n_top_words까지\n",
        "    print()"
      ],
      "execution_count": 11,
      "outputs": []
    },
    {
      "cell_type": "code",
      "metadata": {
        "colab": {
          "base_uri": "https://localhost:8080/"
        },
        "id": "uQa7R2cQ_8O0",
        "outputId": "43c1aea7-c720-4a89-c214-fd3198f69200"
      },
      "source": [
        "print_top_words(lda,vec.get_feature_names(), 10)"
      ],
      "execution_count": 12,
      "outputs": [
        {
          "output_type": "stream",
          "name": "stdout",
          "text": [
            "Topic #0: 좀, 느낌, 감독, 공포영화, 공포, 보기, 감, 소재, 나름, 소리\n",
            "Topic #1: 더, 정말, 말, 다시, 음악, 한번, 사랑, 모두, 작품, 인생\n",
            "Topic #2: 스토리, 내용, 마블, 부분, 만, 이해, 조금, 영상, 전개, 우리나라\n",
            "Topic #3: 생각, 영화, 것, 수, 듯, 한국, 역시, 신, 대한, 내내\n",
            "Topic #4: 그, 광주, 편, 역사, 우리, 가슴, 송강호, 노스, 택시, 다음\n",
            "Topic #5: 연기, 배우, 최고, 마동석, 윤계상, 액션, 차태현, 함, 한국영, 연기력\n",
            "Topic #6: 사람, 진짜, 그냥, 원작, 때, 안, 뭐, 신파, 거, 하나\n",
            "Topic #7: 감동, 눈물, 재미, 마지막, 꼭, 보고, 가족, 처음, 끝, 추천\n",
            "Topic #8: 시간, 볼, 내, 왜, 기대, 중간, 또, 나, 별로, 임\n",
            "Topic #9: 영화, 점, 이, 돈, 평점, 관객, 중, 눈, 천만, 난\n",
            "\n"
          ]
        }
      ]
    },
    {
      "cell_type": "markdown",
      "metadata": {
        "id": "rf27KmaP_8O0"
      },
      "source": [
        "#### 한 자로 구성된 명사들은 의미파악이 어려우므로 삭제할 필요가 있음\n",
        "두 자 이상만 반환하는 함수를 작성"
      ]
    },
    {
      "cell_type": "code",
      "metadata": {
        "colab": {
          "base_uri": "https://localhost:8080/"
        },
        "id": "m-u-FvPb_8O0",
        "outputId": "4ad1b2a1-c631-473a-c8d9-36c8a79979e2"
      },
      "source": [
        "twitter_tag.nouns(text[1])"
      ],
      "execution_count": 13,
      "outputs": [
        {
          "output_type": "execute_result",
          "data": {
            "text/plain": [
              "['개연', '성은', '무시', '액션', '스타로드', '각각', '영웅', '적', '신념', '얼마나']"
            ]
          },
          "metadata": {},
          "execution_count": 13
        }
      ]
    },
    {
      "cell_type": "code",
      "metadata": {
        "id": "DrdgNsua_8O1"
      },
      "source": [
        "def tokenizer(str):\n",
        "    return [token for token in twitter_tag.nouns(str) if len(token) > 1]"
      ],
      "execution_count": 14,
      "outputs": []
    },
    {
      "cell_type": "code",
      "metadata": {
        "colab": {
          "base_uri": "https://localhost:8080/"
        },
        "id": "8bLfeF-E_8O1",
        "outputId": "bb4bc188-7651-498e-cdc7-160b5dc233aa"
      },
      "source": [
        "tokenizer(text[1])"
      ],
      "execution_count": 15,
      "outputs": [
        {
          "output_type": "execute_result",
          "data": {
            "text/plain": [
              "['개연', '성은', '무시', '액션', '스타로드', '각각', '영웅', '신념', '얼마나']"
            ]
          },
          "metadata": {},
          "execution_count": 15
        }
      ]
    },
    {
      "cell_type": "markdown",
      "metadata": {
        "id": "c7JMrVy3_8O1"
      },
      "source": [
        "'적'과 같이 한 자로 된 단어를 제거하고 count vector 생성"
      ]
    },
    {
      "cell_type": "code",
      "metadata": {
        "id": "l9Bl532k_8O2"
      },
      "source": [
        "#count vector 새로 생성\n",
        "vec = CountVectorizer(tokenizer=tokenizer, decode_error ='ignore', \n",
        "                      max_df=0.5, max_features = 1000) #너무 자주 나타나는 단어는 제외\n",
        "review_cv = vec.fit_transform(text)"
      ],
      "execution_count": 16,
      "outputs": []
    },
    {
      "cell_type": "code",
      "metadata": {
        "colab": {
          "base_uri": "https://localhost:8080/"
        },
        "id": "FfW30VQ__8O2",
        "outputId": "9e915e04-c660-4adc-d8d0-da4ff8dd5851"
      },
      "source": [
        "#topic modeling 수행\n",
        "lda = LatentDirichletAllocation(n_components = 50, max_iter=25, \n",
        "                                topic_word_prior= 0.1, doc_topic_prior=1.0,\n",
        "                                learning_method='batch',\n",
        "                                n_jobs= -1,\n",
        "                                random_state=0)\n",
        "review_topics = lda.fit_transform(review_cv)\n",
        "print_top_words(lda,vec.get_feature_names(), 10)"
      ],
      "execution_count": 17,
      "outputs": [
        {
          "output_type": "stream",
          "name": "stdout",
          "text": [
            "Topic #0: 영화, 공포, 머리, 노력, 때문, 폭력, 이름, 생각, 감동, 체험\n",
            "Topic #1: 노스, 영화, 이상, 결말, 히어로, 상영, 지루함, 절대, 시간, 좀더\n",
            "Topic #2: 마동석, 윤계상, 연기, 액션, 형사, 존재, 충격, 갑자기, 결말, 시각\n",
            "Topic #3: 모두, 제대로, 진심, 누구, 배우, 지금, 김향기, 영화, 고생, 다가\n",
            "Topic #4: 개인, 인간, 계속, 오늘, 영화, 세계, 그것, 해도, 사람, 그날\n",
            "Topic #5: 영화, 매우, 사람, 어른, 또한, 걱정, 라이언, 요즘, 결론, 각색\n",
            "Topic #6: 장면, 한국, 영화, 귀신, 가지, 생각, 헐리우드, 전달, 사진, 연말\n",
            "Topic #7: 마블, 완전, 어벤져스, 대사, 시리즈, 인피니티, 줄거리, 오역, 짜증, 시간\n",
            "Topic #8: 신파, 차태현, 액션, 눈물, 긴장감, 예상, 영화, 과거, 반드시, 예전\n",
            "Topic #9: 보고, 추천, 영화, 아들, 강추, 가슴, 가족, 영화관, 학년, 추석\n",
            "Topic #10: 영화, 무슨, 감동, 등장, 기대, 느낌, 정도, 리얼, 그냥, 피아노\n",
            "Topic #11: 사랑, 인생, 이야기, 영화, 무엇, 완성, 비교, 도대체, 제목, 아무\n",
            "Topic #12: 역시, 아이, 실망, 실화, 코믹, 효과, 영화, 스릴, 수작, 대안\n",
            "Topic #13: 사람, 이해, 대한, 마지막, 뭔가, 편이, 토르, 만점, 영화, 이승\n",
            "Topic #14: 스토리, 중간, 전개, 극장, 드라마, 전체, 정신, 화면, 더욱, 짜임새\n",
            "Topic #15: 현실, 주인공, 뮤지컬, 노래, 라면, 볼거리, 남자, 스톤, 시나리오, 이하\n",
            "Topic #16: 영상, 내용, 처음, 조선족, 영화, 교훈, 감성, 눈물, 갈수록, 원래\n",
            "Topic #17: 공포영화, 캐릭터, 아쉬움, 영화, 다큐, 상황, 누가, 다소, 외국, 타임\n",
            "Topic #18: 영화, 이제, 보지, 강철, 댓글, 제일, 인정, 실감, 선택, 주제\n",
            "Topic #19: 광주, 택시, 시민, 전두환, 민주화, 운전사, 개연, 운동, 배경, 감사\n",
            "Topic #20: 역사, 내내, 국민, 희생, 점수, 사실, 영웅, 영화, 분노, 인물\n",
            "Topic #21: 감동, 정말, 영화, 영화로, 재미, 오락, 최고, 언제, 장르, 마블리\n",
            "Topic #22: 영화, 생각, 얘기, 오히려, 화가, 경찰, 촬영, 최고, 기법, 이정\n",
            "Topic #23: 원작, 하나, 영화, 후반, 정도, 역할, 화보, 잘만, 미국, 사람\n",
            "Topic #24: 재미, 보기, 영화, 만화, 전혀, 반전, 공감, 요소, 스케일, 무조건\n",
            "Topic #25: 대박, 가장, 범죄, 예고편, 이번, 영화, 도시, 신파극, 차라리, 악당\n",
            "Topic #26: 음악, 영화, 연기력, 배우, 모든, 정말, 최고, 마지막, 울음, 통해\n",
            "Topic #27: 평점, 영화, 다른, 최고, 간만, 혼자, 올해, 조폭, 명작, 보시\n",
            "Topic #28: 영화, 한국영, 웃음, 그래픽, 코드, 만큼, 한편, 남편, 개그, 제작\n",
            "Topic #29: 몰입, 영화, 이후, 몰입도, 영화관, 거의, 취향, 연기, 분위기, 수도\n",
            "Topic #30: 진짜, 최악, 소리, 영화, 시작, 부모님, 정말, 제발, 그때, 처음\n",
            "Topic #31: 기억, 판타지, 영화, 중국, 인상, 자극, 죽음, 박수, 호불호, 애니메이션\n",
            "Topic #32: 영화, 우리나라, 발전, 얼마나, 역대, 기도, 기술, 기대, 스포, 그닥\n",
            "Topic #33: 우리, 영화, 여운, 의미, 구성, 나라, 다시, 군인, 사실, 문화\n",
            "Topic #34: 영화, 한번, 표현, 저승, 연기자, 생각, 눈물, 나중, 막판, 감동\n",
            "Topic #35: 감독, 영화, 곤지암, 친구, 일단, 여자, 안보, 전반, 가면, 카메라\n",
            "Topic #36: 웹툰, 나름, 엄마, 감정, 영화, 자신, 평가, 동생, 어디, 표정\n",
            "Topic #37: 연기, 배우, 조연, 주연, 진짜, 악역, 그게, 점도, 간다, 자기\n",
            "Topic #38: 가슴, 진실, 영화, 시대, 눈물, 민주주의, 초딩, 스크린, 문제, 지금\n",
            "Topic #39: 관객, 수준, 천만, 연출, 감독, 약간, 흥행, 엔딩, 아픔, 영화\n",
            "Topic #40: 내용, 초반, 조금, 영화, 생각, 펑펑, 다만, 슬픔, 눈물, 최고다\n",
            "Topic #41: 별로, 그냥, 이영화, 영화, 정도, 사실, 진짜, 잔인함, 느낌, 시간\n",
            "Topic #42: 작품, 송강호, 소재, 위해, 기자, 대한민국, 유머, 최근, 재판, 추격\n",
            "Topic #43: 영화, 아주, 자체, 실제, 순간, 동안, 캐스팅, 사건, 묘사, 부모\n",
            "Topic #44: 영화, 억지, 관람, 후회, 대해, 생각, 집중, 가족, 이정재, 거리\n",
            "Topic #45: 감동, 영화, 알바, 중반, 쓰레기, 코코, 때문, 겨울왕국, 살짝, 무서움\n",
            "Topic #46: 마음, 가족, 모습, 개봉, 디즈니, 세상, 영화, 다시, 반성, 상상\n",
            "Topic #47: 하정우, 김동욱, 지옥, 이유, 어머니, 주지훈, 연기, 아저씨, 최고, 소문\n",
            "Topic #48: 느낌, 영화, 기대, 매력, 영화인, 억지로, 편도, 흐름, 감동, 방금\n",
            "Topic #49: 부분, 다음, 이건, 영화, 시간, 기분, 출연, 보고, 번역, 킬링타임\n",
            "\n"
          ]
        }
      ]
    },
    {
      "cell_type": "markdown",
      "metadata": {
        "id": "01GPk0Fk_8O3"
      },
      "source": [
        "50개의 topic들을 대상으로 clustering을 수행해서 topic들이 잘 묶을 수 있는지 확인"
      ]
    },
    {
      "cell_type": "code",
      "metadata": {
        "colab": {
          "base_uri": "https://localhost:8080/"
        },
        "id": "Ms6gIts6_8O3",
        "outputId": "dd89de60-aba5-41b5-80eb-5f5b99a1731c"
      },
      "source": [
        "from sklearn.cluster import KMeans\n",
        "\n",
        "kmeans = KMeans(n_clusters=5) #5개 클러스터로 분류\n",
        "kmeans.fit(lda.components_)\n",
        "\n",
        "print('topic-word distribution dimension:', lda.components_.shape)\n",
        "print('Cluster label:', kmeans.labels_)"
      ],
      "execution_count": 18,
      "outputs": [
        {
          "output_type": "stream",
          "name": "stdout",
          "text": [
            "topic-word distribution dimension: (50, 1000)\n",
            "Cluster label: [0 1 4 1 1 0 0 1 1 1 0 1 1 1 3 1 1 1 0 1 1 1 0 1 1 1 0 0 0 1 1 1 0 1 0 1 1\n",
            " 2 1 1 1 1 1 0 1 1 1 1 1 1]\n"
          ]
        }
      ]
    },
    {
      "cell_type": "markdown",
      "metadata": {
        "id": "7Mfi3tWV_8O3"
      },
      "source": [
        "T-SNE를 이용하여 각 topic들 간의 관계를 시각화"
      ]
    },
    {
      "cell_type": "code",
      "metadata": {
        "colab": {
          "base_uri": "https://localhost:8080/"
        },
        "id": "dR_EwST7_8O4",
        "outputId": "f9c49c2a-91df-4db9-9d17-6f60d975614a"
      },
      "source": [
        "from sklearn.manifold import TSNE\n",
        "tsne = TSNE(n_components=2, random_state=42)\n",
        "tsne_review = tsne.fit_transform(lda.components_)\n",
        "print('TSNE dimension:', tsne_review.shape)\n",
        "tsne_review[:,0]"
      ],
      "execution_count": 19,
      "outputs": [
        {
          "output_type": "stream",
          "name": "stdout",
          "text": [
            "TSNE dimension: (50, 2)\n"
          ]
        },
        {
          "output_type": "execute_result",
          "data": {
            "text/plain": [
              "array([-4.2698837e+01,  9.5934927e-01, -1.5029411e+02, -6.0237888e+01,\n",
              "        5.7522644e+01, -3.4366104e+01,  5.0061352e+01,  5.0396961e+01,\n",
              "       -1.3341701e+02, -1.5530203e+02, -1.3388657e+01, -1.0669691e+02,\n",
              "        3.6686241e+01,  1.4093440e+02,  5.2927020e+02,  9.8415558e+01,\n",
              "       -9.9136971e+01,  7.5688873e+01, -2.8825984e+00,  1.3720456e+02,\n",
              "        1.0767493e+02, -6.0687833e+00, -5.4359825e+01, -2.1194077e+01,\n",
              "        5.6720509e+01, -3.3798653e+01, -8.3291946e+01, -4.9196175e+01,\n",
              "        1.5748225e+01, -6.1991935e+00,  4.7341946e+01,  2.4803320e+01,\n",
              "        2.4014154e+01,  5.2269173e+01, -6.9044388e+01,  2.9307858e+01,\n",
              "       -9.4413605e+01, -6.5143654e+01, -4.9299189e-01,  1.4362802e+02,\n",
              "        3.5614677e+01, -7.0637016e+01,  9.8988419e+01, -2.5275827e+01,\n",
              "       -9.7152805e+00,  3.0104673e+00, -2.7035402e+01, -4.0681293e+01,\n",
              "        7.3616318e+01, -1.2427878e+02], dtype=float32)"
            ]
          },
          "metadata": {},
          "execution_count": 19
        }
      ]
    },
    {
      "cell_type": "code",
      "metadata": {
        "colab": {
          "base_uri": "https://localhost:8080/",
          "height": 386
        },
        "id": "eDfLVzah_8O4",
        "outputId": "8ff6cfab-449e-4a4c-dfe0-c79cdaef9954"
      },
      "source": [
        "%matplotlib inline\n",
        "import matplotlib.pyplot as plt\n",
        "from matplotlib import font_manager, rc\n",
        "font_name = font_manager.FontProperties(fname=\"c:/Windows/Fonts/malgun.ttf\").get_name()\n",
        "rc('font', family=font_name)\n",
        "import matplotlib as mpl\n",
        "\n",
        "# 그래프에서 마이너스 폰트 깨지는 문제에 대한 대처\n",
        "mpl.rcParams['axes.unicode_minus'] = False"
      ],
      "execution_count": 20,
      "outputs": [
        {
          "output_type": "error",
          "ename": "FileNotFoundError",
          "evalue": "ignored",
          "traceback": [
            "\u001b[0;31m---------------------------------------------------------------------------\u001b[0m",
            "\u001b[0;31mFileNotFoundError\u001b[0m                         Traceback (most recent call last)",
            "\u001b[0;32m<ipython-input-20-8d4aab19f8e3>\u001b[0m in \u001b[0;36m<module>\u001b[0;34m()\u001b[0m\n\u001b[1;32m      2\u001b[0m \u001b[0;32mimport\u001b[0m \u001b[0mmatplotlib\u001b[0m\u001b[0;34m.\u001b[0m\u001b[0mpyplot\u001b[0m \u001b[0;32mas\u001b[0m \u001b[0mplt\u001b[0m\u001b[0;34m\u001b[0m\u001b[0;34m\u001b[0m\u001b[0m\n\u001b[1;32m      3\u001b[0m \u001b[0;32mfrom\u001b[0m \u001b[0mmatplotlib\u001b[0m \u001b[0;32mimport\u001b[0m \u001b[0mfont_manager\u001b[0m\u001b[0;34m,\u001b[0m \u001b[0mrc\u001b[0m\u001b[0;34m\u001b[0m\u001b[0;34m\u001b[0m\u001b[0m\n\u001b[0;32m----> 4\u001b[0;31m \u001b[0mfont_name\u001b[0m \u001b[0;34m=\u001b[0m \u001b[0mfont_manager\u001b[0m\u001b[0;34m.\u001b[0m\u001b[0mFontProperties\u001b[0m\u001b[0;34m(\u001b[0m\u001b[0mfname\u001b[0m\u001b[0;34m=\u001b[0m\u001b[0;34m\"c:/Windows/Fonts/malgun.ttf\"\u001b[0m\u001b[0;34m)\u001b[0m\u001b[0;34m.\u001b[0m\u001b[0mget_name\u001b[0m\u001b[0;34m(\u001b[0m\u001b[0;34m)\u001b[0m\u001b[0;34m\u001b[0m\u001b[0;34m\u001b[0m\u001b[0m\n\u001b[0m\u001b[1;32m      5\u001b[0m \u001b[0mrc\u001b[0m\u001b[0;34m(\u001b[0m\u001b[0;34m'font'\u001b[0m\u001b[0;34m,\u001b[0m \u001b[0mfamily\u001b[0m\u001b[0;34m=\u001b[0m\u001b[0mfont_name\u001b[0m\u001b[0;34m)\u001b[0m\u001b[0;34m\u001b[0m\u001b[0;34m\u001b[0m\u001b[0m\n\u001b[1;32m      6\u001b[0m \u001b[0;32mimport\u001b[0m \u001b[0mmatplotlib\u001b[0m \u001b[0;32mas\u001b[0m \u001b[0mmpl\u001b[0m\u001b[0;34m\u001b[0m\u001b[0;34m\u001b[0m\u001b[0m\n",
            "\u001b[0;32m/usr/local/lib/python3.7/dist-packages/matplotlib/font_manager.py\u001b[0m in \u001b[0;36mget_name\u001b[0;34m(self)\u001b[0m\n\u001b[1;32m    687\u001b[0m         \u001b[0mReturn\u001b[0m \u001b[0mthe\u001b[0m \u001b[0mname\u001b[0m \u001b[0mof\u001b[0m \u001b[0mthe\u001b[0m \u001b[0mfont\u001b[0m \u001b[0mthat\u001b[0m \u001b[0mbest\u001b[0m \u001b[0mmatches\u001b[0m \u001b[0mthe\u001b[0m \u001b[0mfont\u001b[0m \u001b[0mproperties\u001b[0m\u001b[0;34m.\u001b[0m\u001b[0;34m\u001b[0m\u001b[0;34m\u001b[0m\u001b[0m\n\u001b[1;32m    688\u001b[0m         \"\"\"\n\u001b[0;32m--> 689\u001b[0;31m         \u001b[0;32mreturn\u001b[0m \u001b[0mget_font\u001b[0m\u001b[0;34m(\u001b[0m\u001b[0mfindfont\u001b[0m\u001b[0;34m(\u001b[0m\u001b[0mself\u001b[0m\u001b[0;34m)\u001b[0m\u001b[0;34m)\u001b[0m\u001b[0;34m.\u001b[0m\u001b[0mfamily_name\u001b[0m\u001b[0;34m\u001b[0m\u001b[0;34m\u001b[0m\u001b[0m\n\u001b[0m\u001b[1;32m    690\u001b[0m \u001b[0;34m\u001b[0m\u001b[0m\n\u001b[1;32m    691\u001b[0m     \u001b[0;32mdef\u001b[0m \u001b[0mget_style\u001b[0m\u001b[0;34m(\u001b[0m\u001b[0mself\u001b[0m\u001b[0;34m)\u001b[0m\u001b[0;34m:\u001b[0m\u001b[0;34m\u001b[0m\u001b[0;34m\u001b[0m\u001b[0m\n",
            "\u001b[0;32m/usr/local/lib/python3.7/dist-packages/matplotlib/font_manager.py\u001b[0m in \u001b[0;36mget_font\u001b[0;34m(filename, hinting_factor)\u001b[0m\n\u001b[1;32m   1327\u001b[0m         \u001b[0mhinting_factor\u001b[0m \u001b[0;34m=\u001b[0m \u001b[0mrcParams\u001b[0m\u001b[0;34m[\u001b[0m\u001b[0;34m'text.hinting_factor'\u001b[0m\u001b[0;34m]\u001b[0m\u001b[0;34m\u001b[0m\u001b[0;34m\u001b[0m\u001b[0m\n\u001b[1;32m   1328\u001b[0m     return _get_font(os.fspath(filename), hinting_factor,\n\u001b[0;32m-> 1329\u001b[0;31m                      _kerning_factor=rcParams['text.kerning_factor'])\n\u001b[0m\u001b[1;32m   1330\u001b[0m \u001b[0;34m\u001b[0m\u001b[0m\n\u001b[1;32m   1331\u001b[0m \u001b[0;34m\u001b[0m\u001b[0m\n",
            "\u001b[0;31mFileNotFoundError\u001b[0m: [Errno 2] No such file or directory: 'c:/Windows/Fonts/malgun.ttf'"
          ]
        }
      ]
    },
    {
      "cell_type": "code",
      "metadata": {
        "colab": {
          "base_uri": "https://localhost:8080/",
          "height": 848
        },
        "id": "nu7JNjtk_8O4",
        "outputId": "f65d4008-cf49-483f-d0e6-8e4f7840e870"
      },
      "source": [
        "colors = {0:'blue', 1:'yellow', 2:'red', 3:'green', 4:'purple'}\n",
        "x1 = tsne_review[:,0]\n",
        "x2 = tsne_review[:,1]\n",
        "plt.scatter(x1, x2)\n",
        "\n",
        "plt.figure(figsize=(15,10))\n",
        "plt.xlim(min(x1), max(x1))\n",
        "plt.ylim(min(x2), max(x2))\n",
        "for i in range(len(x1)):\n",
        "#    plt.text(X1_lsi[i], X2_lsi[i], sample_label[i],\n",
        "#            color = colors[sample_label[i]])\n",
        "    plt.text(x1[i], x2[i], kmeans.labels_[i],\n",
        "            color = colors[kmeans.labels_[i]])\n",
        "\n",
        "#for word, pos in df.iterrows():\n",
        "#    ax.annotate(word, pos, fontsize=30)\n",
        "plt.show()\n",
        "\n",
        "#아래 결과를 보면 각 topic들이 고르게 분포하고 있어, 클러스터링이 별로 의미 없음을 알 수 있음"
      ],
      "execution_count": 21,
      "outputs": [
        {
          "output_type": "display_data",
          "data": {
            "image/png": "[encoded data removed]",
            "text/plain": [
              "<Figure size 432x288 with 1 Axes>"
            ]
          },
          "metadata": {
            "needs_background": "light"
          }
        },
        {
          "output_type": "display_data",
          "data": {
            "image/png": "[encoded data removed]",
            "text/plain": [
              "<Figure size 1080x720 with 1 Axes>"
            ]
          },
          "metadata": {
            "needs_background": "light"
          }
        }
      ]
    },
    {
      "cell_type": "markdown",
      "metadata": {
        "id": "zKQUTZ7c_8O5"
      },
      "source": [
        "#### 최적의 결과를 찾기 위한 방법\n",
        "적절한 topic의 수는 perplexity 값을 이용해 찾음.<br>\n",
        "낮을 수록 좋은 모형이나, 사람의 판단과 일치하지 않을 수 있음<br>\n",
        "http://qpleple.com/perplexity-to-evaluate-topic-models/ <br>\n",
        "그 외에 alpha, beta는 앞서 설명한 바와 같이 beta=0.1로 고정하고 alpha를 50/토픽수 근처에서 찾아나감<br>\n",
        "반복횟수는 5,000번 정도면 수렴"
      ]
    },
    {
      "cell_type": "code",
      "metadata": {
        "colab": {
          "base_uri": "https://localhost:8080/"
        },
        "id": "kbFq7i___8O5",
        "outputId": "1d6f6f75-563a-4171-9a44-afbd7a0eebe6"
      },
      "source": [
        "lda.perplexity(review_cv)"
      ],
      "execution_count": 22,
      "outputs": [
        {
          "output_type": "execute_result",
          "data": {
            "text/plain": [
              "581.1155668607582"
            ]
          },
          "metadata": {},
          "execution_count": 22
        }
      ]
    },
    {
      "cell_type": "code",
      "metadata": {
        "colab": {
          "base_uri": "https://localhost:8080/"
        },
        "id": "5lCOtsLE_8O5",
        "outputId": "18b2721e-ca9c-43b5-cf7f-2f4a17f1db9d"
      },
      "source": [
        "#topic modeling 수행\n",
        "lda = LatentDirichletAllocation(n_components = 25, max_iter=25, \n",
        "                                topic_word_prior= 0.1, doc_topic_prior=2.0,\n",
        "                                learning_method='batch',\n",
        "                                n_jobs= -1,\n",
        "                                random_state=0)\n",
        "review_topics = lda.fit_transform(review_cv)\n",
        "print_top_words(lda,vec.get_feature_names(), 10)\n",
        "lda.perplexity(review_cv)"
      ],
      "execution_count": 23,
      "outputs": [
        {
          "output_type": "stream",
          "name": "stdout",
          "text": [
            "Topic #0: 영화, 공포, 아주, 디즈니, 감동, 자극, 갈수록, 제발, 머리, 노력\n",
            "Topic #1: 영화, 노스, 히어로, 다음, 지루함, 뮤지컬, 절대, 상영, 진짜, 스토리\n",
            "Topic #2: 윤계상, 마동석, 연기, 영화, 액션, 악역, 형사, 배우, 존재, 평가\n",
            "Topic #3: 하정우, 연기, 영화, 모두, 주지훈, 진심, 배우, 누구, 거의, 시대\n",
            "Topic #4: 영화, 계속, 웃음, 세계, 감동, 개인, 우리, 사람, 해도, 오늘\n",
            "Topic #5: 영화, 평점, 기억, 매우, 코코, 어른, 공감, 또한, 여기, 감동\n",
            "Topic #6: 영화, 한국, 생각, 장면, 흥행, 가지, 여자, 스크린, 보고, 배우\n",
            "Topic #7: 마블, 영화, 어벤져스, 완전, 시간, 대사, 시리즈, 부분, 사람, 진짜\n",
            "Topic #8: 차태현, 영화, 신파, 눈물, 연기, 진짜, 혼자, 정말, 배우, 액션\n",
            "Topic #9: 영화, 보고, 범죄, 아들, 추천, 연기, 정말, 도시, 연기자, 관람\n",
            "Topic #10: 영화, 감동, 등장, 쓰레기, 천만, 느낌, 전반, 생각, 기대, 그냥\n",
            "Topic #11: 사랑, 영화, 인생, 이야기, 음악, 최고, 완성, 마지막, 올해, 비교\n",
            "Topic #12: 영화, 실망, 스토리, 그래픽, 감동, 아이, 재미, 실화, 개연, 초딩\n",
            "Topic #13: 영화, 이해, 사람, 편이, 인간, 마지막, 토르, 감정, 진짜, 뭔가\n",
            "Topic #14: 영화, 스토리, 중간, 전개, 화면, 구성, 전체, 극장, 드라마, 설정\n",
            "Topic #15: 영화, 중국, 남자, 다만, 스톤, 볼거리, 노래, 현실, 시나리오, 유머\n",
            "Topic #16: 영화, 내용, 교훈, 부모님, 배우, 조선족, 감성, 연기, 모든, 영상\n",
            "Topic #17: 영화, 공포영화, 귀신, 약간, 다큐, 상황, 관객, 다소, 누가, 기술\n",
            "Topic #18: 영화, 감독, 강철, 이제, 댓글, 제일, 알바, 웹툰, 인정, 그냥\n",
            "Topic #19: 광주, 송강호, 택시, 시민, 역사, 진실, 민주화, 기자, 운전사, 모습\n",
            "Topic #20: 영화, 역사, 대한민국, 국민, 점수, 보지, 후회, 개봉, 내내, 사람\n",
            "Topic #21: 영화, 감동, 정말, 엄마, 연기, 다른, 재미, 생각, 오락, 언제\n",
            "Topic #22: 영화, 생각, 얘기, 조폭, 오히려, 화가, 경찰, 감동, 최고, 마동석\n",
            "Topic #23: 하나, 영화, 사람, 원작, 보고, 지옥, 억지, 진짜, 세상, 화보\n",
            "Topic #24: 영화, 전혀, 만화, 반전, 원작, 저승, 재미, 정말, 연기, 판타지\n",
            "\n"
          ]
        },
        {
          "output_type": "execute_result",
          "data": {
            "text/plain": [
              "557.8402583505608"
            ]
          },
          "metadata": {},
          "execution_count": 23
        }
      ]
    },
    {
      "cell_type": "code",
      "metadata": {
        "colab": {
          "base_uri": "https://localhost:8080/"
        },
        "id": "29bgI5XD_8O5",
        "outputId": "044354d0-caf1-437a-8e19-5744d7dc72c6"
      },
      "source": [
        "#topic modeling 수행\n",
        "lda = LatentDirichletAllocation(n_components = 10, max_iter=25, \n",
        "                                topic_word_prior= 0.1, doc_topic_prior=1.0,\n",
        "                                learning_method='batch',\n",
        "                                n_jobs= -1,\n",
        "                                random_state=0)\n",
        "review_topics = lda.fit_transform(review_cv)\n",
        "print_top_words(lda,vec.get_feature_names(), 10)\n",
        "lda.perplexity(review_cv)"
      ],
      "execution_count": 24,
      "outputs": [
        {
          "output_type": "stream",
          "name": "stdout",
          "text": [
            "Topic #0: 감동, 영화, 가족, 보기, 아이, 역시, 아주, 기억, 약간, 뭔가\n",
            "Topic #1: 마블, 음악, 사랑, 영화, 노스, 현실, 결말, 다음, 주인공, 여운\n",
            "Topic #2: 연기, 배우, 최고, 마동석, 윤계상, 액션, 연출, 연기력, 조연, 캐릭터\n",
            "Topic #3: 광주, 역사, 우리, 가슴, 송강호, 모두, 마음, 택시, 지금, 내내\n",
            "Topic #4: 스토리, 느낌, 영화, 이야기, 작품, 관객, 때문, 별로, 조금, 몰입\n",
            "Topic #5: 그냥, 내용, 영화, 원작, 평점, 웹툰, 수준, 이해, 천만, 소재\n",
            "Topic #6: 영화, 생각, 감독, 한국, 다시, 한번, 공포영화, 공포, 최악, 나름\n",
            "Topic #7: 사람, 시간, 마지막, 장면, 정도, 부분, 인생, 완전, 영상, 이영화\n",
            "Topic #8: 정말, 진짜, 눈물, 신파, 중간, 차태현, 한국영, 대박, 억지, 하정우\n",
            "Topic #9: 영화, 보고, 재미, 기대, 처음, 추천, 이제, 영화관, 관람, 후회\n",
            "\n"
          ]
        },
        {
          "output_type": "execute_result",
          "data": {
            "text/plain": [
              "412.33629266992193"
            ]
          },
          "metadata": {},
          "execution_count": 24
        }
      ]
    },
    {
      "cell_type": "code",
      "metadata": {
        "id": "Eon_uhA3_8O5"
      },
      "source": [
        ""
      ],
      "execution_count": null,
      "outputs": []
    }
  ]
}